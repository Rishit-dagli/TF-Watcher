{
 "cells": [
  {
   "cell_type": "markdown",
   "metadata": {
    "colab_type": "text",
    "id": "view-in-github"
   },
   "source": [
    "<a href=\"https://colab.research.google.com/github/Rishit-dagli/TF-Watcher/blob/add-examples/docs/source/TF-Watcher-Quickstart.ipynb\" target=\"_parent\"><img src=\"https://colab.research.google.com/assets/colab-badge.svg\" alt=\"Open In Colab\"/></a>"
   ]
  },
  {
   "cell_type": "markdown",
   "metadata": {
    "id": "jdxkK-TioesL"
   },
   "source": [
    "# Quickstart: TF Watcher\n",
    "\n",
    "![](https://github.com/Rishit-dagli/TF-Watcher/raw/add-examples/media/cover.png)\n",
    "\n",
    "This example serves as a quickstart for the TF Watcher project. **TF Watcher** is a simple to use Python package and web app which allows you to monitor 👀 your Machine Learning training or testing process on mobile devices 📱 built specially for Google Colab, Azure ML and Kaggle. Dedicated to all ML Developers with ❤️.\n",
    "\n",
    "If you find this useful please consider giving a ⭐ to [the repo](https://github.com/Rishit-dagli/TF-Watcher).\n",
    "\n",
    "In this example we'll use the [Fashion MNIST dataset](https://www.tensorflow.org/api_docs/python/tf/keras/datasets/fashion_mnist) by Laurence Moroney to serve as a quickstart."
   ]
  },
  {
   "cell_type": "markdown",
   "metadata": {
    "id": "_sYwTzFMpKhZ"
   },
   "source": [
    "## Setup"
   ]
  },
  {
   "cell_type": "code",
   "execution_count": 1,
   "metadata": {
    "colab": {
     "base_uri": "https://localhost:8080/"
    },
    "id": "JcvmEjZEoWPt",
    "outputId": "6c480ee1-61e0-48b9-dd1a-332f36d85aae"
   },
   "outputs": [
    {
     "name": "stdout",
     "output_type": "stream",
     "text": [
      "Collecting tf-watcher==0.1.1\n",
      "  Downloading tf_watcher-0.1.1-py3-none-any.whl (22 kB)\n",
      "Requirement already satisfied: tensorflow~=2.5.0 in /usr/local/lib/python3.7/dist-packages (from tf-watcher==0.1.1) (2.5.0)\n",
      "Collecting pyrebase4~=4.5.0\n",
      "  Downloading Pyrebase4-4.5.0-py3-none-any.whl (8.9 kB)\n",
      "Requirement already satisfied: requests>=2.19.1 in /usr/local/lib/python3.7/dist-packages (from pyrebase4~=4.5.0->tf-watcher==0.1.1) (2.23.0)\n",
      "Requirement already satisfied: oauth2client>=4.1.2 in /usr/local/lib/python3.7/dist-packages (from pyrebase4~=4.5.0->tf-watcher==0.1.1) (4.1.3)\n",
      "Collecting gcloud>=0.18.3\n",
      "  Downloading gcloud-0.18.3.tar.gz (454 kB)\n",
      "\u001b[K     |████████████████████████████████| 454 kB 9.0 MB/s \n",
      "\u001b[?25hCollecting python-jwt>=2.0.1\n",
      "  Downloading python_jwt-3.3.0-py2.py3-none-any.whl (6.8 kB)\n",
      "Collecting requests-toolbelt>=0.7.1\n",
      "  Downloading requests_toolbelt-0.9.1-py2.py3-none-any.whl (54 kB)\n",
      "\u001b[K     |████████████████████████████████| 54 kB 3.8 MB/s \n",
      "\u001b[?25hCollecting pycryptodome>=3.6.4\n",
      "  Downloading pycryptodome-3.10.1-cp35-abi3-manylinux2010_x86_64.whl (1.9 MB)\n",
      "\u001b[K     |████████████████████████████████| 1.9 MB 46.4 MB/s \n",
      "\u001b[?25hRequirement already satisfied: httplib2>=0.9.1 in /usr/local/lib/python3.7/dist-packages (from gcloud>=0.18.3->pyrebase4~=4.5.0->tf-watcher==0.1.1) (0.17.4)\n",
      "Requirement already satisfied: googleapis-common-protos in /usr/local/lib/python3.7/dist-packages (from gcloud>=0.18.3->pyrebase4~=4.5.0->tf-watcher==0.1.1) (1.53.0)\n",
      "Requirement already satisfied: protobuf!=3.0.0.b2.post1,>=3.0.0b2 in /usr/local/lib/python3.7/dist-packages (from gcloud>=0.18.3->pyrebase4~=4.5.0->tf-watcher==0.1.1) (3.17.3)\n",
      "Requirement already satisfied: six in /usr/local/lib/python3.7/dist-packages (from gcloud>=0.18.3->pyrebase4~=4.5.0->tf-watcher==0.1.1) (1.15.0)\n",
      "Requirement already satisfied: pyasn1>=0.1.7 in /usr/local/lib/python3.7/dist-packages (from oauth2client>=4.1.2->pyrebase4~=4.5.0->tf-watcher==0.1.1) (0.4.8)\n",
      "Requirement already satisfied: rsa>=3.1.4 in /usr/local/lib/python3.7/dist-packages (from oauth2client>=4.1.2->pyrebase4~=4.5.0->tf-watcher==0.1.1) (4.7.2)\n",
      "Requirement already satisfied: pyasn1-modules>=0.0.5 in /usr/local/lib/python3.7/dist-packages (from oauth2client>=4.1.2->pyrebase4~=4.5.0->tf-watcher==0.1.1) (0.2.8)\n",
      "Collecting jwcrypto>=0.8\n",
      "  Downloading jwcrypto-1.0-py2.py3-none-any.whl (82 kB)\n",
      "\u001b[K     |████████████████████████████████| 82 kB 1.4 MB/s \n",
      "\u001b[?25hCollecting deprecated\n",
      "  Downloading Deprecated-1.2.12-py2.py3-none-any.whl (9.5 kB)\n",
      "Collecting cryptography>=2.3\n",
      "  Downloading cryptography-3.4.7-cp36-abi3-manylinux2014_x86_64.whl (3.2 MB)\n",
      "\u001b[K     |████████████████████████████████| 3.2 MB 60.0 MB/s \n",
      "\u001b[?25hRequirement already satisfied: cffi>=1.12 in /usr/local/lib/python3.7/dist-packages (from cryptography>=2.3->jwcrypto>=0.8->python-jwt>=2.0.1->pyrebase4~=4.5.0->tf-watcher==0.1.1) (1.14.6)\n",
      "Requirement already satisfied: pycparser in /usr/local/lib/python3.7/dist-packages (from cffi>=1.12->cryptography>=2.3->jwcrypto>=0.8->python-jwt>=2.0.1->pyrebase4~=4.5.0->tf-watcher==0.1.1) (2.20)\n",
      "Requirement already satisfied: chardet<4,>=3.0.2 in /usr/local/lib/python3.7/dist-packages (from requests>=2.19.1->pyrebase4~=4.5.0->tf-watcher==0.1.1) (3.0.4)\n",
      "Requirement already satisfied: certifi>=2017.4.17 in /usr/local/lib/python3.7/dist-packages (from requests>=2.19.1->pyrebase4~=4.5.0->tf-watcher==0.1.1) (2021.5.30)\n",
      "Requirement already satisfied: idna<3,>=2.5 in /usr/local/lib/python3.7/dist-packages (from requests>=2.19.1->pyrebase4~=4.5.0->tf-watcher==0.1.1) (2.10)\n",
      "Requirement already satisfied: urllib3!=1.25.0,!=1.25.1,<1.26,>=1.21.1 in /usr/local/lib/python3.7/dist-packages (from requests>=2.19.1->pyrebase4~=4.5.0->tf-watcher==0.1.1) (1.24.3)\n",
      "Requirement already satisfied: keras-nightly~=2.5.0.dev in /usr/local/lib/python3.7/dist-packages (from tensorflow~=2.5.0->tf-watcher==0.1.1) (2.5.0.dev2021032900)\n",
      "Requirement already satisfied: tensorboard~=2.5 in /usr/local/lib/python3.7/dist-packages (from tensorflow~=2.5.0->tf-watcher==0.1.1) (2.5.0)\n",
      "Requirement already satisfied: wheel~=0.35 in /usr/local/lib/python3.7/dist-packages (from tensorflow~=2.5.0->tf-watcher==0.1.1) (0.36.2)\n",
      "Requirement already satisfied: gast==0.4.0 in /usr/local/lib/python3.7/dist-packages (from tensorflow~=2.5.0->tf-watcher==0.1.1) (0.4.0)\n",
      "Requirement already satisfied: tensorflow-estimator<2.6.0,>=2.5.0rc0 in /usr/local/lib/python3.7/dist-packages (from tensorflow~=2.5.0->tf-watcher==0.1.1) (2.5.0)\n",
      "Requirement already satisfied: termcolor~=1.1.0 in /usr/local/lib/python3.7/dist-packages (from tensorflow~=2.5.0->tf-watcher==0.1.1) (1.1.0)\n",
      "Requirement already satisfied: opt-einsum~=3.3.0 in /usr/local/lib/python3.7/dist-packages (from tensorflow~=2.5.0->tf-watcher==0.1.1) (3.3.0)\n",
      "Requirement already satisfied: flatbuffers~=1.12.0 in /usr/local/lib/python3.7/dist-packages (from tensorflow~=2.5.0->tf-watcher==0.1.1) (1.12)\n",
      "Requirement already satisfied: wrapt~=1.12.1 in /usr/local/lib/python3.7/dist-packages (from tensorflow~=2.5.0->tf-watcher==0.1.1) (1.12.1)\n",
      "Requirement already satisfied: astunparse~=1.6.3 in /usr/local/lib/python3.7/dist-packages (from tensorflow~=2.5.0->tf-watcher==0.1.1) (1.6.3)\n",
      "Requirement already satisfied: numpy~=1.19.2 in /usr/local/lib/python3.7/dist-packages (from tensorflow~=2.5.0->tf-watcher==0.1.1) (1.19.5)\n",
      "Requirement already satisfied: absl-py~=0.10 in /usr/local/lib/python3.7/dist-packages (from tensorflow~=2.5.0->tf-watcher==0.1.1) (0.12.0)\n",
      "Requirement already satisfied: typing-extensions~=3.7.4 in /usr/local/lib/python3.7/dist-packages (from tensorflow~=2.5.0->tf-watcher==0.1.1) (3.7.4.3)\n",
      "Requirement already satisfied: h5py~=3.1.0 in /usr/local/lib/python3.7/dist-packages (from tensorflow~=2.5.0->tf-watcher==0.1.1) (3.1.0)\n",
      "Requirement already satisfied: keras-preprocessing~=1.1.2 in /usr/local/lib/python3.7/dist-packages (from tensorflow~=2.5.0->tf-watcher==0.1.1) (1.1.2)\n",
      "Requirement already satisfied: grpcio~=1.34.0 in /usr/local/lib/python3.7/dist-packages (from tensorflow~=2.5.0->tf-watcher==0.1.1) (1.34.1)\n",
      "Requirement already satisfied: google-pasta~=0.2 in /usr/local/lib/python3.7/dist-packages (from tensorflow~=2.5.0->tf-watcher==0.1.1) (0.2.0)\n",
      "Requirement already satisfied: cached-property in /usr/local/lib/python3.7/dist-packages (from h5py~=3.1.0->tensorflow~=2.5.0->tf-watcher==0.1.1) (1.5.2)\n",
      "Requirement already satisfied: werkzeug>=0.11.15 in /usr/local/lib/python3.7/dist-packages (from tensorboard~=2.5->tensorflow~=2.5.0->tf-watcher==0.1.1) (1.0.1)\n",
      "Requirement already satisfied: tensorboard-plugin-wit>=1.6.0 in /usr/local/lib/python3.7/dist-packages (from tensorboard~=2.5->tensorflow~=2.5.0->tf-watcher==0.1.1) (1.8.0)\n",
      "Requirement already satisfied: google-auth<2,>=1.6.3 in /usr/local/lib/python3.7/dist-packages (from tensorboard~=2.5->tensorflow~=2.5.0->tf-watcher==0.1.1) (1.32.1)\n",
      "Requirement already satisfied: setuptools>=41.0.0 in /usr/local/lib/python3.7/dist-packages (from tensorboard~=2.5->tensorflow~=2.5.0->tf-watcher==0.1.1) (57.2.0)\n",
      "Requirement already satisfied: tensorboard-data-server<0.7.0,>=0.6.0 in /usr/local/lib/python3.7/dist-packages (from tensorboard~=2.5->tensorflow~=2.5.0->tf-watcher==0.1.1) (0.6.1)\n",
      "Requirement already satisfied: google-auth-oauthlib<0.5,>=0.4.1 in /usr/local/lib/python3.7/dist-packages (from tensorboard~=2.5->tensorflow~=2.5.0->tf-watcher==0.1.1) (0.4.4)\n",
      "Requirement already satisfied: markdown>=2.6.8 in /usr/local/lib/python3.7/dist-packages (from tensorboard~=2.5->tensorflow~=2.5.0->tf-watcher==0.1.1) (3.3.4)\n",
      "Requirement already satisfied: cachetools<5.0,>=2.0.0 in /usr/local/lib/python3.7/dist-packages (from google-auth<2,>=1.6.3->tensorboard~=2.5->tensorflow~=2.5.0->tf-watcher==0.1.1) (4.2.2)\n",
      "Requirement already satisfied: requests-oauthlib>=0.7.0 in /usr/local/lib/python3.7/dist-packages (from google-auth-oauthlib<0.5,>=0.4.1->tensorboard~=2.5->tensorflow~=2.5.0->tf-watcher==0.1.1) (1.3.0)\n",
      "Requirement already satisfied: importlib-metadata in /usr/local/lib/python3.7/dist-packages (from markdown>=2.6.8->tensorboard~=2.5->tensorflow~=2.5.0->tf-watcher==0.1.1) (4.6.1)\n",
      "Requirement already satisfied: oauthlib>=3.0.0 in /usr/local/lib/python3.7/dist-packages (from requests-oauthlib>=0.7.0->google-auth-oauthlib<0.5,>=0.4.1->tensorboard~=2.5->tensorflow~=2.5.0->tf-watcher==0.1.1) (3.1.1)\n",
      "Requirement already satisfied: zipp>=0.5 in /usr/local/lib/python3.7/dist-packages (from importlib-metadata->markdown>=2.6.8->tensorboard~=2.5->tensorflow~=2.5.0->tf-watcher==0.1.1) (3.5.0)\n",
      "Building wheels for collected packages: gcloud\n",
      "  Building wheel for gcloud (setup.py) ... \u001b[?25l\u001b[?25hdone\n",
      "  Created wheel for gcloud: filename=gcloud-0.18.3-py3-none-any.whl size=602937 sha256=e3a3ff716ff76d8f061c8fc979069ea8a50bb09d084aa0d9ccfc48585f2fb6c5\n",
      "  Stored in directory: /root/.cache/pip/wheels/50/9d/19/dc1a639905431252dbf8a61388a83459c5cfef7add445bebe4\n",
      "Successfully built gcloud\n",
      "Installing collected packages: deprecated, cryptography, jwcrypto, requests-toolbelt, python-jwt, pycryptodome, gcloud, pyrebase4, tf-watcher\n",
      "Successfully installed cryptography-3.4.7 deprecated-1.2.12 gcloud-0.18.3 jwcrypto-1.0 pycryptodome-3.10.1 pyrebase4-4.5.0 python-jwt-3.3.0 requests-toolbelt-0.9.1 tf-watcher-0.1.1\n"
     ]
    }
   ],
   "source": [
    "!pip install tf-watcher==0.1.1"
   ]
  },
  {
   "cell_type": "code",
   "execution_count": 2,
   "metadata": {
    "id": "ZCSRByonoeZA"
   },
   "outputs": [],
   "source": [
    "import tensorflow as tf\n",
    "import tfwatcher"
   ]
  },
  {
   "cell_type": "markdown",
   "metadata": {
    "id": "HU7x2w4ZpYxL"
   },
   "source": [
    "## Get the data"
   ]
  },
  {
   "cell_type": "code",
   "execution_count": 3,
   "metadata": {
    "colab": {
     "base_uri": "https://localhost:8080/"
    },
    "id": "QELwfIfUqVUr",
    "outputId": "ef2b4ba9-7565-4654-ef4f-f5617da366a8"
   },
   "outputs": [
    {
     "name": "stdout",
     "output_type": "stream",
     "text": [
      "Downloading data from https://storage.googleapis.com/tensorflow/tf-keras-datasets/train-labels-idx1-ubyte.gz\n",
      "32768/29515 [=================================] - 0s 0us/step\n",
      "Downloading data from https://storage.googleapis.com/tensorflow/tf-keras-datasets/train-images-idx3-ubyte.gz\n",
      "26427392/26421880 [==============================] - 0s 0us/step\n",
      "Downloading data from https://storage.googleapis.com/tensorflow/tf-keras-datasets/t10k-labels-idx1-ubyte.gz\n",
      "8192/5148 [===============================================] - 0s 0us/step\n",
      "Downloading data from https://storage.googleapis.com/tensorflow/tf-keras-datasets/t10k-images-idx3-ubyte.gz\n",
      "4423680/4422102 [==============================] - 0s 0us/step\n"
     ]
    }
   ],
   "source": [
    "mnist = tf.keras.datasets.fashion_mnist\n",
    "(training_images, training_labels), (test_images, test_labels) = mnist.load_data()\n",
    "\n",
    "training_images = training_images.reshape(60000, 28, 28, 1) # Training images\n",
    "test_images = test_images.reshape(10000, 28, 28, 1) # Testing images"
   ]
  },
  {
   "cell_type": "markdown",
   "metadata": {
    "id": "ZrBSsW9DvNBY"
   },
   "source": [
    "## Some preprocessing\n",
    "\n",
    "Since this is a very simple dataset to work with very little pre-processing would be required. We will divide all pixel values with 255 to covert them from the range 0 - 255 to 0 - 1. As Neural Nets tend to work better with normalized data. "
   ]
  },
  {
   "cell_type": "code",
   "execution_count": 4,
   "metadata": {
    "id": "xGz1i1ervLGF"
   },
   "outputs": [],
   "source": [
    "training_images = training_images / 255.0\n",
    "test_images = test_images / 255.0"
   ]
  },
  {
   "cell_type": "markdown",
   "metadata": {
    "id": "2Ww3VJu90Kqz"
   },
   "source": [
    "## Create a model"
   ]
  },
  {
   "cell_type": "code",
   "execution_count": 5,
   "metadata": {
    "id": "8M7lgPg2wJFD"
   },
   "outputs": [],
   "source": [
    "model = tf.keras.models.Sequential([\n",
    "  tf.keras.layers.Conv2D(32, (3,3), activation='relu', input_shape=(28, 28, 1)),\n",
    "  tf.keras.layers.MaxPooling2D(2, 2),\n",
    "  tf.keras.layers.Conv2D(64, (3,3), activation='relu'),\n",
    "  tf.keras.layers.MaxPooling2D(2,2),\n",
    "  tf.keras.layers.Flatten(),\n",
    "  tf.keras.layers.Dense(128, activation='relu'),\n",
    "  tf.keras.layers.Dense(64, activation='relu'),\n",
    "  tf.keras.layers.Dense(10, activation='softmax')\n",
    "])"
   ]
  },
  {
   "cell_type": "code",
   "execution_count": 6,
   "metadata": {
    "id": "FNN7xC6w0PZ0"
   },
   "outputs": [],
   "source": [
    "model.compile(optimizer='adam', \n",
    "              loss='sparse_categorical_crossentropy', \n",
    "              metrics=['accuracy'])\n",
    "# Add the metrics you want to monitor"
   ]
  },
  {
   "cell_type": "markdown",
   "metadata": {
    "id": "LJ5uiHuE0UXx"
   },
   "source": [
    "## Use TF Watcher while training\n",
    "\n",
    "We pass in `schedule` as 1 to monitor after every epoch"
   ]
  },
  {
   "cell_type": "code",
   "execution_count": 7,
   "metadata": {
    "colab": {
     "base_uri": "https://localhost:8080/"
    },
    "id": "hhy1-lvB0bF7",
    "outputId": "d57a48e6-f6b9-4e68-a176-ca2ef8fff4b6"
   },
   "outputs": [
    {
     "name": "stdout",
     "output_type": "stream",
     "text": [
      "Use this ID to monitor training for this session: lowBKYU\n"
     ]
    }
   ],
   "source": [
    "MonitorCallback = tfwatcher.callbacks.EpochEnd(schedule = 1)"
   ]
  },
  {
   "cell_type": "markdown",
   "metadata": {
    "id": "bpv0AjaZ0oKX"
   },
   "source": [
    "Use this ID in https://www.tfwatcher.tech"
   ]
  },
  {
   "cell_type": "code",
   "execution_count": 8,
   "metadata": {
    "colab": {
     "base_uri": "https://localhost:8080/"
    },
    "id": "ujUyEXY90TuQ",
    "outputId": "8b8aac8c-fa1a-4dcd-8fc2-d2af5079104c"
   },
   "outputs": [
    {
     "name": "stdout",
     "output_type": "stream",
     "text": [
      "Epoch 1/15\n",
      "1875/1875 [==============================] - 37s 3ms/step - loss: 0.4598 - accuracy: 0.8318\n",
      "Epoch 2/15\n",
      "1875/1875 [==============================] - 5s 3ms/step - loss: 0.3002 - accuracy: 0.8895\n",
      "Epoch 3/15\n",
      "1875/1875 [==============================] - 5s 3ms/step - loss: 0.2556 - accuracy: 0.9050\n",
      "Epoch 4/15\n",
      "1875/1875 [==============================] - 5s 3ms/step - loss: 0.2243 - accuracy: 0.9168\n",
      "Epoch 5/15\n",
      "1875/1875 [==============================] - 5s 3ms/step - loss: 0.1963 - accuracy: 0.9257\n",
      "Epoch 6/15\n",
      "1875/1875 [==============================] - 5s 3ms/step - loss: 0.1756 - accuracy: 0.9338\n",
      "Epoch 7/15\n",
      "1875/1875 [==============================] - 5s 3ms/step - loss: 0.1568 - accuracy: 0.9412\n",
      "Epoch 8/15\n",
      "1875/1875 [==============================] - 5s 3ms/step - loss: 0.1398 - accuracy: 0.9468\n",
      "Epoch 9/15\n",
      "1875/1875 [==============================] - 5s 3ms/step - loss: 0.1262 - accuracy: 0.9525\n",
      "Epoch 10/15\n",
      "1875/1875 [==============================] - 5s 3ms/step - loss: 0.1110 - accuracy: 0.9576\n",
      "Epoch 11/15\n",
      "1875/1875 [==============================] - 5s 3ms/step - loss: 0.0989 - accuracy: 0.9627\n",
      "Epoch 12/15\n",
      "1875/1875 [==============================] - 5s 3ms/step - loss: 0.0900 - accuracy: 0.9657\n",
      "Epoch 13/15\n",
      "1875/1875 [==============================] - 5s 3ms/step - loss: 0.0806 - accuracy: 0.9695\n",
      "Epoch 14/15\n",
      "1875/1875 [==============================] - 5s 3ms/step - loss: 0.0742 - accuracy: 0.9719\n",
      "Epoch 15/15\n",
      "1875/1875 [==============================] - 5s 3ms/step - loss: 0.0689 - accuracy: 0.9742\n"
     ]
    }
   ],
   "source": [
    "history = model.fit(training_images, training_labels, epochs=15, callbacks=[MonitorCallback])"
   ]
  },
  {
   "cell_type": "markdown",
   "metadata": {
    "id": "Fz4oJr862FQC"
   },
   "source": [
    "You should have been able to see your logs in real time on the web app with the metrics you defined:\n",
    "\n",
    "![](https://i.imgur.com/C1EuWC2.png)\n",
    "\n",
    "This was all for the quickstart example, but there is a lot more you can do with this project, check out [the documentation](https://rishit-dagli.github.io/TF-Watcher/) to know more."
   ]
  }
 ],
 "metadata": {
  "accelerator": "GPU",
  "colab": {
   "authorship_tag": "ABX9TyPQO95JHLoLlYoiZ7h8XSTT",
   "include_colab_link": true,
   "name": "TF-Watcher-Quickstart.ipynb",
   "provenance": []
  },
  "kernelspec": {
   "display_name": "Python 3",
   "name": "python3"
  },
  "language_info": {
   "name": "python"
  }
 },
 "nbformat": 4,
 "nbformat_minor": 0
}
